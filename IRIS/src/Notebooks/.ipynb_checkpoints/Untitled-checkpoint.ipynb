{
 "cells": [
  {
   "cell_type": "markdown",
   "id": "c58d5702",
   "metadata": {},
   "source": [
    "# IRIS login using python embedded"
   ]
  },
  {
   "cell_type": "code",
   "execution_count": 38,
   "id": "40e6d4ae",
   "metadata": {},
   "outputs": [
    {
     "name": "stdout",
     "output_type": "stream",
     "text": [
      "First :  1\n",
      "Second :  0\n",
      "['Error', 'Global', 'Stdout', '__builtins__', '__cached__', '__doc__', '__file__', '__loader__', '__name__', '__ospath', '__package__', '__spec__', '__syspath', 'check_status', 'cls', 'gref', 'installdir', 'irisbuiltins', 'irisloader', 'lock', 'ref', 'routine', 'sql', 'system', 'tcommit', 'tlevel', 'trollback', 'trollbackone', 'tstart', 'unlock', 'utils']\n"
     ]
    }
   ],
   "source": [
    "import iris\n",
    "\n",
    "first = iris.system.Security.Login(\"_SYSTEM\", \"SYS\")\n",
    "print(\"First : \", first)\n",
    "\n",
    "second = iris.system.Security.Login(\"user\", \"pass\")\n",
    "print(\"Second : \", second)\n",
    "\n",
    "iris.Error = type(\"StandardError\", (object,), {})\n",
    "print(dir(iris))"
   ]
  },
  {
   "cell_type": "code",
   "execution_count": null,
   "id": "1f4da226",
   "metadata": {},
   "outputs": [],
   "source": []
  },
  {
   "cell_type": "code",
   "execution_count": 8,
   "id": "aa327645",
   "metadata": {},
   "outputs": [
    {
     "ename": "RuntimeError",
     "evalue": "iris.class: error finding class",
     "output_type": "error",
     "traceback": [
      "\u001b[0;31m---------------------------------------------------------------------------\u001b[0m",
      "\u001b[0;31mRuntimeError\u001b[0m                              Traceback (most recent call last)",
      "Input \u001b[0;32mIn [8]\u001b[0m, in \u001b[0;36m<cell line: 9>\u001b[0;34m()\u001b[0m\n\u001b[1;32m      6\u001b[0m classUtils \u001b[38;5;241m=\u001b[39m \u001b[38;5;124m'\u001b[39m\u001b[38;5;124mdc.teccod.API.utils\u001b[39m\u001b[38;5;124m'\u001b[39m\n\u001b[1;32m      7\u001b[0m \u001b[38;5;66;03m# print(json.loads(myGref)[\"data\"])\u001b[39;00m\n\u001b[1;32m      8\u001b[0m \u001b[38;5;66;03m# iris.cls(\"qwe.Test\").start('$lb(43, 24)')\u001b[39;00m\n\u001b[0;32m----> 9\u001b[0m \u001b[38;5;28mprint\u001b[39m(\u001b[43miris\u001b[49m\u001b[38;5;241;43m.\u001b[39;49m\u001b[43mcls\u001b[49m\u001b[43m(\u001b[49m\u001b[43mclassUtils\u001b[49m\u001b[43m)\u001b[49m\u001b[38;5;241m.\u001b[39mgetInfo())\n",
      "\u001b[0;31mRuntimeError\u001b[0m: iris.class: error finding class"
     ]
    }
   ],
   "source": [
    "import iris\n",
    "import json\n",
    "# print(iris.gref(\"^ZPM.Dev.ResourceI\"))\n",
    "# print(dir(iris))\n",
    "\n",
    "classUtils = 'dc.teccod.API.utils'\n",
    "# print(json.loads(myGref)[\"data\"])\n",
    "# iris.cls(\"qwe.Test\").start('$lb(43, 24)')\n",
    "print(iris.cls(classUtils).getInfo())\n",
    "\n",
    "# query = \"SELECT location, CAST(total_cases AS int) as total_cases FROM Data.Covid19\"\n",
    "# data_frame = iris.sql.exec(query).dataframe().to_numpy()\n",
    "\n",
    "# for item in data_frame:\n",
    "#     myGref[item[0], item[1]] = \"\""
   ]
  },
  {
   "cell_type": "code",
   "execution_count": 5,
   "id": "560f47bc",
   "metadata": {},
   "outputs": [
    {
     "name": "stdout",
     "output_type": "stream",
     "text": [
      "[]\n"
     ]
    }
   ],
   "source": [
    "import iris\n",
    "import json\n",
    "\n",
    "query = \"SELECT * FROM %ExtentMgr.GlobalRegistry\"\n",
    "data_frame = iris.sql.exec(query).dataframe()\n",
    "\n",
    "print(data_frame.to_json(orient=\"records\"))"
   ]
  },
  {
   "cell_type": "code",
   "execution_count": null,
   "id": "7da4a078",
   "metadata": {},
   "outputs": [],
   "source": [
    "import iris\n",
    "import json\n",
    "from flask import Flask, request, make_response, jsonify\n",
    "\n",
    "classUtils = 'dc.teccod.API.utils'\n",
    "\n",
    "print(jsonify(json.loads(iris.cls(classUtils).getGlobals(\"^FcJL.E5rp.1\"))['data']))\n",
    "# print(jsonify(json.loads(iris.cls(classUtils).getGlobalList())['data']))"
   ]
  },
  {
   "cell_type": "code",
   "execution_count": null,
   "id": "74e7cd1b",
   "metadata": {},
   "outputs": [],
   "source": []
  }
 ],
 "metadata": {
  "kernelspec": {
   "display_name": "IRIS Python",
   "language": "python",
   "name": "irispython"
  },
  "language_info": {
   "codemirror_mode": {
    "name": "ipython",
    "version": 3
   },
   "file_extension": ".py",
   "mimetype": "text/x-python",
   "name": "python",
   "nbconvert_exporter": "python",
   "pygments_lexer": "ipython3",
   "version": "3.8.10"
  }
 },
 "nbformat": 4,
 "nbformat_minor": 5
}
