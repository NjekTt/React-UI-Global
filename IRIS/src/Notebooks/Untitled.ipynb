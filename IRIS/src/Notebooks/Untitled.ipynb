{
 "cells": [
  {
   "cell_type": "markdown",
   "id": "c58d5702",
   "metadata": {},
   "source": [
    "# IRIS login using python embedded"
   ]
  },
  {
   "cell_type": "code",
   "execution_count": 38,
   "id": "40e6d4ae",
   "metadata": {},
   "outputs": [
    {
     "name": "stdout",
     "output_type": "stream",
     "text": [
      "First :  1\n",
      "Second :  0\n",
      "['Error', 'Global', 'Stdout', '__builtins__', '__cached__', '__doc__', '__file__', '__loader__', '__name__', '__ospath', '__package__', '__spec__', '__syspath', 'check_status', 'cls', 'gref', 'installdir', 'irisbuiltins', 'irisloader', 'lock', 'ref', 'routine', 'sql', 'system', 'tcommit', 'tlevel', 'trollback', 'trollbackone', 'tstart', 'unlock', 'utils']\n"
     ]
    }
   ],
   "source": [
    "import iris\n",
    "\n",
    "first = iris.system.Security.Login(\"_SYSTEM\", \"SYS\")\n",
    "print(\"First : \", first)\n",
    "\n",
    "second = iris.system.Security.Login(\"user\", \"pass\")\n",
    "print(\"Second : \", second)\n",
    "\n",
    "iris.Error = type(\"StandardError\", (object,), {})\n",
    "print(dir(iris))"
   ]
  },
  {
   "cell_type": "code",
   "execution_count": null,
   "id": "1f4da226",
   "metadata": {},
   "outputs": [],
   "source": []
  },
  {
   "cell_type": "code",
   "execution_count": 8,
   "id": "aa327645",
   "metadata": {},
   "outputs": [
    {
     "ename": "RuntimeError",
     "evalue": "iris.class: error finding class",
     "output_type": "error",
     "traceback": [
      "\u001b[0;31m---------------------------------------------------------------------------\u001b[0m",
      "\u001b[0;31mRuntimeError\u001b[0m                              Traceback (most recent call last)",
      "Input \u001b[0;32mIn [8]\u001b[0m, in \u001b[0;36m<cell line: 9>\u001b[0;34m()\u001b[0m\n\u001b[1;32m      6\u001b[0m classUtils \u001b[38;5;241m=\u001b[39m \u001b[38;5;124m'\u001b[39m\u001b[38;5;124mdc.teccod.API.utils\u001b[39m\u001b[38;5;124m'\u001b[39m\n\u001b[1;32m      7\u001b[0m \u001b[38;5;66;03m# print(json.loads(myGref)[\"data\"])\u001b[39;00m\n\u001b[1;32m      8\u001b[0m \u001b[38;5;66;03m# iris.cls(\"qwe.Test\").start('$lb(43, 24)')\u001b[39;00m\n\u001b[0;32m----> 9\u001b[0m \u001b[38;5;28mprint\u001b[39m(\u001b[43miris\u001b[49m\u001b[38;5;241;43m.\u001b[39;49m\u001b[43mcls\u001b[49m\u001b[43m(\u001b[49m\u001b[43mclassUtils\u001b[49m\u001b[43m)\u001b[49m\u001b[38;5;241m.\u001b[39mgetInfo())\n",
      "\u001b[0;31mRuntimeError\u001b[0m: iris.class: error finding class"
     ]
    }
   ],
   "source": [
    "import iris\n",
    "import json\n",
    "# print(iris.gref(\"^ZPM.Dev.ResourceI\"))\n",
    "# print(dir(iris))\n",
    "\n",
    "classUtils = 'dc.teccod.API.utils'\n",
    "# print(json.loads(myGref)[\"data\"])\n",
    "# iris.cls(\"qwe.Test\").start('$lb(43, 24)')\n",
    "print(iris.cls(classUtils).getInfo())\n",
    "\n",
    "# query = \"SELECT location, CAST(total_cases AS int) as total_cases FROM Data.Covid19\"\n",
    "# data_frame = iris.sql.exec(query).dataframe().to_numpy()\n",
    "\n",
    "# for item in data_frame:\n",
    "#     myGref[item[0], item[1]] = \"\""
   ]
  },
  {
   "cell_type": "code",
   "execution_count": 1,
   "id": "560f47bc",
   "metadata": {},
   "outputs": [
    {
     "ename": "RuntimeError",
     "evalue": "iris.class: error finding class",
     "output_type": "error",
     "traceback": [
      "\u001b[0;31m---------------------------------------------------------------------------\u001b[0m",
      "\u001b[0;31mRuntimeError\u001b[0m                              Traceback (most recent call last)",
      "Input \u001b[0;32mIn [1]\u001b[0m, in \u001b[0;36m<cell line: 5>\u001b[0;34m()\u001b[0m\n\u001b[1;32m      2\u001b[0m \u001b[38;5;28;01mimport\u001b[39;00m \u001b[38;5;21;01mjson\u001b[39;00m\n\u001b[1;32m      4\u001b[0m classUtils \u001b[38;5;241m=\u001b[39m \u001b[38;5;124m'\u001b[39m\u001b[38;5;124mdc.teccod.API.utils\u001b[39m\u001b[38;5;124m'\u001b[39m\n\u001b[0;32m----> 5\u001b[0m \u001b[43miris\u001b[49m\u001b[38;5;241;43m.\u001b[39;49m\u001b[43mcls\u001b[49m\u001b[43m(\u001b[49m\u001b[43mclassUtils\u001b[49m\u001b[43m)\u001b[49m\u001b[38;5;241m.\u001b[39msetNamespace(\u001b[38;5;124m\"\u001b[39m\u001b[38;5;124mUSER\u001b[39m\u001b[38;5;124m\"\u001b[39m)\n\u001b[1;32m      7\u001b[0m query \u001b[38;5;241m=\u001b[39m \u001b[38;5;124m\"\u001b[39m\u001b[38;5;124mSELECT * FROM \u001b[39m\u001b[38;5;132;01m%E\u001b[39;00m\u001b[38;5;124mxtentMgr.GlobalRegistry\u001b[39m\u001b[38;5;124m\"\u001b[39m\n\u001b[1;32m      8\u001b[0m data_frame \u001b[38;5;241m=\u001b[39m iris\u001b[38;5;241m.\u001b[39msql\u001b[38;5;241m.\u001b[39mexec(query)\u001b[38;5;241m.\u001b[39mdataframe()\n",
      "\u001b[0;31mRuntimeError\u001b[0m: iris.class: error finding class"
     ]
    }
   ],
   "source": [
    "import iris\n",
    "import json\n",
    "\n",
    "classUtils = 'dc.teccod.API.utils'\n",
    "iris.cls(classUtils).setNamespace(\"USER\")\n",
    "\n",
    "query = \"SELECT * FROM %ExtentMgr.GlobalRegistry\"\n",
    "data_frame = iris.sql.exec(query).dataframe()\n",
    "\n",
    "iris.cls(classUtils).setNamespace(\"IRISAPP\")\n",
    "\n",
    "print(data_frame.to_json(orient=\"records\"))"
   ]
  },
  {
   "cell_type": "code",
   "execution_count": 3,
   "id": "7da4a078",
   "metadata": {},
   "outputs": [
    {
     "name": "stdout",
     "output_type": "stream",
     "text": [
      "[{'name': '^%ZPM.Client.ServerDefD'}, {'name': '^%ZPM.Client.ServerDefI'}, {'name': '^%cspSession'}, {'name': '^%qHTMLElementD'}, {'name': '^%qJavaMetaDictionary'}, {'name': '^%qLOGDMN'}, {'name': '^%qMgtPortal.Index'}, {'name': '^%qMsg'}, {'name': '^%qMsgNames'}, {'name': '^%qObjectErrors'}, {'name': '^%qObjectKey'}, {'name': '^%qObjectQualifier'}, {'name': '^%qPublicSuffix'}, {'name': '^%qSQL'}, {'name': '^%qStream'}, {'name': '^%qcspRule'}, {'name': '^FcJL.E5rp.1'}, {'name': '^FcJL.E5rp.2'}, {'name': '^FcJL.EWY5.1'}, {'name': '^FcJL.EWY5.2'}, {'name': '^IRIS.Temp.Ensemble'}, {'name': '^IRIS.Temp.RecompileInfo'}, {'name': '^IRIS.Temp.StatementHashPP'}, {'name': '^IRIS.Temp.SysMetrics'}, {'name': '^IRIS.Temp.SysMetricsGWClient'}, {'name': '^IRIS.Temp.cspServer'}, {'name': '^IRIS.TempCSPLang'}, {'name': '^IRIS.TempClass'}, {'name': '^IRIS.TempClsCode'}, {'name': '^IRIS.TempCompileActive'}, {'name': '^IRIS.TempJ'}, {'name': '^IRIS.TempNodes'}, {'name': '^IRIS.TempNodes460'}, {'name': '^IRIS.TempNodes611'}, {'name': '^IRIS.TempNodes612'}, {'name': '^IRIS.TempNodes614'}, {'name': '^IRIS.TempNodes615'}, {'name': '^IRIS.TempNodes625'}, {'name': '^IRIS.TempNodes626'}, {'name': '^IRIS.TempNodes627'}, {'name': '^IRIS.TempNodes632'}, {'name': '^IRIS.TempNodes637'}, {'name': '^IRIS.WorkQueue'}, {'name': '^IRIS.sql.diag.message.1'}, {'name': '^IRIS.sql.diag.message.2'}, {'name': '^IRIS.sql.diag.message.3'}, {'name': '^IRIS.sql.diag.result.1'}, {'name': '^ISC.Src.Jrn'}, {'name': '^ROUTINE'}, {'name': '^ZPM.Dev.ModuleC'}, {'name': '^ZPM.Dev.ModuleD'}, {'name': '^ZPM.Dev.ModuleDocD'}, {'name': '^ZPM.Dev.ModuleDocI'}, {'name': '^ZPM.Dev.ModuleDocS'}, {'name': '^ZPM.Dev.ModuleI'}, {'name': '^ZPM.Dev.ResourceI'}, {'name': '^mtemp'}, {'name': '^oddCOM'}, {'name': '^oddDEF'}, {'name': '^oddDEP'}, {'name': '^oddEXT'}, {'name': '^oddEXTR'}, {'name': '^oddMAP'}, {'name': '^oddPKG'}, {'name': '^oddPROC'}, {'name': '^oddPROJECT'}, {'name': '^oddPYTHON'}, {'name': '^oddSQL'}, {'name': '^oddStudioDocument'}, {'name': '^oddStudioMenu'}, {'name': '^oddTSQL'}, {'name': '^oddXML'}, {'name': '^rBACKUP'}, {'name': '^rINC'}, {'name': '^rINCSAVE'}, {'name': '^rINDEX'}, {'name': '^rINDEXCLASS'}, {'name': '^rINDEXEXT'}, {'name': '^rINDEXSQL'}, {'name': '^rMAC'}, {'name': '^rMACSAVE'}, {'name': '^rMAP'}, {'name': '^rOBJ'}, {'name': ''}]\n"
     ]
    }
   ],
   "source": [
    "import iris\n",
    "import json\n",
    "from flask import Flask, request, make_response, jsonify\n",
    "\n",
    "classUtils = 'dc.teccod.API.utils'\n",
    "\n",
    "# print(jsonify(json.loads(iris.cls(classUtils).getGlobals(\"^FcJL.E5rp.1\"))['data']))\n",
    "# print(json.loads(iris.cls(classUtils).getGlobalList())['data'])"
   ]
  },
  {
   "cell_type": "code",
   "execution_count": null,
   "id": "74e7cd1b",
   "metadata": {},
   "outputs": [],
   "source": []
  }
 ],
 "metadata": {
  "kernelspec": {
   "display_name": "IRIS Python",
   "language": "python",
   "name": "irispython"
  },
  "language_info": {
   "codemirror_mode": {
    "name": "ipython",
    "version": 3
   },
   "file_extension": ".py",
   "mimetype": "text/x-python",
   "name": "python",
   "nbconvert_exporter": "python",
   "pygments_lexer": "ipython3",
   "version": "3.8.10"
  }
 },
 "nbformat": 4,
 "nbformat_minor": 5
}
